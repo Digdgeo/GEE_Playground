{
 "cells": [
  {
   "cell_type": "code",
   "execution_count": null,
   "metadata": {},
   "outputs": [],
   "source": [
    "import os\n",
    "import ee\n",
    "import geemap"
   ]
  },
  {
   "cell_type": "code",
   "execution_count": null,
   "metadata": {},
   "outputs": [],
   "source": [
    "Map = geemap.Map()\n",
    "Map.add_basemap('Google Satellite')\n",
    "Map"
   ]
  },
  {
   "cell_type": "code",
   "execution_count": null,
   "metadata": {},
   "outputs": [],
   "source": [
    "roi = Map.draw_last_feature\n",
    "print(roi.geometry().getInfo())"
   ]
  },
  {
   "cell_type": "code",
   "execution_count": null,
   "metadata": {},
   "outputs": [],
   "source": [
    "class landsat_ndvi_seasonality(object):\n",
    "                               \n",
    "    def __init__(self, roi=None, start_year=2014, end_year=2018):\n",
    "        \n",
    "        '''Start the instance with the parameters for start and end year. Also we set the fixed values for\n",
    "        the seasons dates and generate the collection as ndvi 32 days merge of all landsats'''\n",
    "        \n",
    "        \n",
    "        #year = datetime.datetime.now().year\n",
    "\n",
    "        #ee_initialize()\n",
    "        self.roi = roi\n",
    "        if self.roi is None:\n",
    "            self.roi = ee.Geometry.Polygon(\n",
    "                [[[-6.766047, 36.776586], \n",
    "                  [-6.766047, 37.202186], \n",
    "                  [-5.867729, 37.202186], \n",
    "                  [-5.867729, 36.776586], \n",
    "                  [-6.766047, 36.776586]]], None, False)\n",
    "            \n",
    "        else:\n",
    "\n",
    "            if not isinstance(roi, ee.Geometry):\n",
    "\n",
    "                try:\n",
    "                    self.roi = self.roi.geometry()\n",
    "                except Exception as e:\n",
    "                    print('Could not convert the provided roi to ee.Geometry')\n",
    "                    print(e)\n",
    "                    return\n",
    "\n",
    "                \n",
    "        self.start_year = start_year\n",
    "        self.end_year = end_year\n",
    "        self.winter = ['-01-01', '-03-31']\n",
    "        self.spring = ['-04-01', '-06-30']\n",
    "        self.summer = ['-07-01', '-09-30']\n",
    "        self.autumn = ['-10-01', '-12-31']\n",
    "\n",
    "        # Landsat collection preprocessingEnabled\n",
    "        # Get Landsat surface reflectance collections for OLI, ETM+ and TM sensors.\n",
    "        LC08col = ee.ImageCollection(\"LANDSAT/LC08/C01/T1_8DAY_NDVI\")\n",
    "        LE07col = ee.ImageCollection(\"LANDSAT/LE07/C01/T1_8DAY_NDVI\")\n",
    "        LT05col = ee.ImageCollection(\"LANDSAT/LT05/C01/T1_8DAY_NDVI\")\n",
    "        LT04col = ee.ImageCollection(\"LANDSAT/LT04/C01/T1_8DAY_NDVI\")\n",
    "\n",
    "        self.ndvi_col = LC08col.merge(LE07col).merge(LT05col).merge(LT04col)\n",
    "        #self.ndvi_col = LC08col.merge(LT05col).merge(LT04col)\n",
    "        self.imagelist = []\n",
    "    \n",
    "    def get_winter(self, y):\n",
    "        \n",
    "        '''Here comes the funny thing. We have to generate the winter image for each year'''\n",
    "        init, ends = str(y) + self.winter[0], str(y) + self.winter[1]\n",
    "        return self.ndvi_col.filterDate(init, ends).select('NDVI').max()\n",
    "        \n",
    "    def get_spring(self, y):\n",
    "        \n",
    "        '''Here comes the funny thing. We have to generate the winter image for each year'''\n",
    "        init, ends = str(y) + self.spring[0], str(y) + self.spring[1]\n",
    "        return self.ndvi_col.filterDate(init, ends).select('NDVI').max()\n",
    "        \n",
    "    def get_summer(self, y):\n",
    "        \n",
    "        '''Here comes the funny thing. We have to generate the winter image for each year'''\n",
    "        init, ends = str(y) + self.summer[0], str(y) + self.summer[1]\n",
    "        return self.ndvi_col.filterDate(init, ends).select('NDVI').max()\n",
    "        \n",
    "    def get_autumn(self, y):\n",
    "        \n",
    "        '''Here comes the funny thing. We have to generate the winter image for each year'''\n",
    "        init, ends = str(y) + self.autumn[0], str(y) + self.autumn[1]\n",
    "        return self.ndvi_col.filterDate(init, ends).select('NDVI').max()\n",
    "    \n",
    "    def get_year_composite(self):\n",
    "        \n",
    "        '''return the composite ndvi for each year'''\n",
    "        for y in range(self.start_year, self.end_year):\n",
    "            \n",
    "            composite = ee.Image.cat(self.get_winter(y), self.get_spring(y), self.get_summer(y), self.get_autumn(y)).clip(self.roi)\n",
    "\n",
    "            compositer = composite.select(['NDVI', 'NDVI_1', 'NDVI_2', 'NDVI_3'], ['invierno', 'primavera', 'verano', 'autumn'])\n",
    "            #self.col = ee.ImageCollection(compositer)\n",
    "            self.imagelist.append(compositer)\n",
    "        \n",
    "        print(len(self.imagelist))\n",
    "        ndvi_comp_coll = ee.ImageCollection.fromImages(self.imagelist)\n",
    "        \n",
    "        return ndvi_comp_coll\n"
   ]
  },
  {
   "cell_type": "code",
   "execution_count": null,
   "metadata": {},
   "outputs": [],
   "source": [
    "a = landsat_ndvi_seasonality(roi, 1995, 2019)"
   ]
  },
  {
   "cell_type": "code",
   "execution_count": null,
   "metadata": {},
   "outputs": [],
   "source": [
    "b2010 = a.get_year_composite()"
   ]
  },
  {
   "cell_type": "code",
   "execution_count": null,
   "metadata": {},
   "outputs": [],
   "source": [
    "Map.addLayer(b2010, {'bands': ['invierno', 'primavera', 'verano'], 'min': 0.1, 'max': 0.8})\n",
    "#Map.addLayer(b2010, {'bands': ['primavera', 'verano', 'autumn'], 'min': 0.2, 'max': 0.75})\n",
    "#Map.addLayer(b2010)"
   ]
  },
  {
   "cell_type": "code",
   "execution_count": null,
   "metadata": {},
   "outputs": [],
   "source": [
    "# Now I use the wonderful geemap library to create the gif\n",
    "# Define arguments for animation function parameters.\n",
    "video_args = {\n",
    "  'dimensions': 768,\n",
    "  'region': roi, #.geometry().getInfo()['coordinates'],\n",
    "  'framesPerSecond': 1,\n",
    "  'bands': ['invierno', 'primavera', 'verano'], #Yes, I should change band names to winter, spring and summer\n",
    "  'min': 0.1,\n",
    "  'max': 0.8,\n",
    "  'gamma': [1, 1, 1],\n",
    "  'maxPixels': 1e15\n",
    "}"
   ]
  },
  {
   "cell_type": "code",
   "execution_count": null,
   "metadata": {},
   "outputs": [],
   "source": [
    "work_dir = os.path.join('/home/diego/Descargas')\n",
    "out_gif = os.path.join(work_dir, \"ndvi_multi_class_dessert_10.gif\")"
   ]
  },
  {
   "cell_type": "code",
   "execution_count": null,
   "metadata": {},
   "outputs": [],
   "source": [
    "geemap.download_ee_video(a.get_year_composite(), video_args, out_gif)"
   ]
  },
  {
   "cell_type": "code",
   "execution_count": null,
   "metadata": {},
   "outputs": [],
   "source": [
    "texted_gif = os.path.join(work_dir, \"ndvi_Musa_text.gif\")\n",
    "geemap.add_text_to_gif(out_gif, texted_gif, xy=('90%', '2%'), text_sequence='1995', font_size=30, font_color='#ffffff', add_progress_bar=False)"
   ]
  },
  {
   "cell_type": "code",
   "execution_count": null,
   "metadata": {},
   "outputs": [],
   "source": [
    "geemap.show_image(texted_gif)"
   ]
  },
  {
   "cell_type": "code",
   "execution_count": null,
   "metadata": {
    "scrolled": false
   },
   "outputs": [],
   "source": [
    "print(a.get_year_composite().size())"
   ]
  },
  {
   "cell_type": "code",
   "execution_count": null,
   "metadata": {},
   "outputs": [],
   "source": []
  }
 ],
 "metadata": {
  "kernelspec": {
   "display_name": "Python 3",
   "language": "python",
   "name": "python3"
  },
  "language_info": {
   "codemirror_mode": {
    "name": "ipython",
    "version": 3
   },
   "file_extension": ".py",
   "mimetype": "text/x-python",
   "name": "python",
   "nbconvert_exporter": "python",
   "pygments_lexer": "ipython3",
   "version": "3.8.2"
  }
 },
 "nbformat": 4,
 "nbformat_minor": 4
}
