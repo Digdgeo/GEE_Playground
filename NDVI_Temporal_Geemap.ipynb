{
 "cells": [
  {
   "cell_type": "code",
   "execution_count": 13,
   "metadata": {},
   "outputs": [],
   "source": [
    "import os\n",
    "import ee\n",
    "import geemap"
   ]
  },
  {
   "cell_type": "code",
   "execution_count": 14,
   "metadata": {},
   "outputs": [
    {
     "data": {
      "application/vnd.jupyter.widget-view+json": {
       "model_id": "22eb96b52a794719930fa98835c360ce",
       "version_major": 2,
       "version_minor": 0
      },
      "text/plain": [
       "Map(center=[40, -100], controls=(ZoomControl(options=['position', 'zoom_in_text', 'zoom_in_title', 'zoom_out_t…"
      ]
     },
     "metadata": {},
     "output_type": "display_data"
    }
   ],
   "source": [
    "Map = geemap.Map()\n",
    "Map.add_basemap('CartoDB.DarkMatter')\n",
    "Map"
   ]
  },
  {
   "cell_type": "code",
   "execution_count": 15,
   "metadata": {},
   "outputs": [
    {
     "name": "stdout",
     "output_type": "stream",
     "text": [
      "{'geodesic': False, 'type': 'Polygon', 'coordinates': [[[-6.189047, 36.933501], [-6.189047, 37.092504], [-5.998119, 37.092504], [-5.998119, 36.933501], [-6.189047, 36.933501]]]}\n"
     ]
    }
   ],
   "source": [
    "#Here I draw a rectangle over Donana National Park\n",
    "#I print the roi info, in case you want to use the same one\n",
    "#You should see rice fileds at north (always blues, as they are a summer crop) \n",
    "#and a lot of small ones very randoms at the east\n",
    "roi = Map.draw_last_feature\n",
    "print(roi.geometry().getInfo())"
   ]
  },
  {
   "cell_type": "code",
   "execution_count": 4,
   "metadata": {},
   "outputs": [],
   "source": [
    "#Create a list with the years and a dict with the init and end dates for every season\n",
    "\n",
    "years = [i for i in range(2014, 2020)]\n",
    "\n",
    "d = {'invierno': {'start': '-01-01', 'end': '-03-31'}, \n",
    "     'primavera': {'start': '-04-01', 'end': '-06-30'},\n",
    "    'verano': {'start': '-07-01', 'end': '-09-30'}}\n",
    "\n",
    "\n",
    "#col = ee.ImageCollection('LANDSAT/LC08/C01/T1_32DAY_NDVI').filterDate(start, end).select('NDVI').max();\n"
   ]
  },
  {
   "cell_type": "code",
   "execution_count": 16,
   "metadata": {
    "scrolled": true
   },
   "outputs": [],
   "source": [
    "coli_14 = ee.ImageCollection('LANDSAT/LC08/C01/T1_32DAY_NDVI').filterDate('2014-01-01', '2014-03-31').select('NDVI').max()\n",
    "colp_14 = ee.ImageCollection('LANDSAT/LC08/C01/T1_32DAY_NDVI').filterDate('2014-04-01', '2014-06-30').select('NDVI').max()\n",
    "cols_14 = ee.ImageCollection('LANDSAT/LC08/C01/T1_32DAY_NDVI').filterDate('2014-07-01', '2014-09-30').select('NDVI').max()\n",
    "\n",
    "comp2014 = ee.Image.cat(coli_14, colp_14, cols_14)\n",
    "col = ee.ImageCollection(comp2014)\n",
    "\n",
    "dd = {}\n",
    "\n",
    "for i in years:\n",
    "    for j, jj in d.items():\n",
    "        for k, v in d[j].items():\n",
    "            \n",
    "            ddkey = 'cat_' + str(i)\n",
    "            \n",
    "            wstart = str(i) + d['invierno']['start']\n",
    "            wend = str(i) + d['invierno']['end']\n",
    "            inv = ee.ImageCollection('LANDSAT/LC08/C01/T1_32DAY_NDVI').filterDate(wstart, wend).select('NDVI').max();\n",
    "            \n",
    "            pstart = str(i) + d['primavera']['start']\n",
    "            pend = str(i) + d['primavera']['end']\n",
    "            pri = ee.ImageCollection('LANDSAT/LC08/C01/T1_32DAY_NDVI').filterDate(pstart, pend).select('NDVI').max();\n",
    "            \n",
    "            vstart = str(i) + d['verano']['start']\n",
    "            vend = str(i) + d['verano']['end']\n",
    "            ver = ee.ImageCollection('LANDSAT/LC08/C01/T1_32DAY_NDVI').filterDate(vstart, vend).select('NDVI').max();\n",
    "            \n",
    "            comp = ee.Image.cat(inv, pri, ver)\n",
    "            dd[ddkey] = comp\n",
    "            \n",
    "            #It is a pain, but merge under this line doesn't work, so I did a dict to hold the cat image for every year\n",
    "            #col.merge(comp)\n",
    "            \n",
    "    "
   ]
  },
  {
   "cell_type": "code",
   "execution_count": 17,
   "metadata": {},
   "outputs": [],
   "source": [
    "#Add col (right now just 2014) just to see it\n",
    "Map.addLayer(col)"
   ]
  },
  {
   "cell_type": "markdown",
   "metadata": {},
   "source": [
    "So now I have my dict with all the image composition with max ndvi during winter (Red band), during spring (Green band) and Summer (Blue band). \n",
    "\n",
    "It SHOULD work and it should be very pythonic to be able to do something like run the dict keys and values and automerge every year to the collection, but it doesn't work again :_(\n",
    "\n",
    "So, I have to do the ugly way you see 2 lines below this one. I guess that string could be automatically generated, but does not solve the main problem of why this doesn't work:\n",
    "\n",
    "'''for k, v in dd.items():\n",
    "    col.merge(v)'''"
   ]
  },
  {
   "cell_type": "code",
   "execution_count": 19,
   "metadata": {},
   "outputs": [
    {
     "data": {
      "text/plain": [
       "{'cat_2014': <ee.image.Image at 0x7f332f310250>,\n",
       " 'cat_2015': <ee.image.Image at 0x7f332f320100>,\n",
       " 'cat_2016': <ee.image.Image at 0x7f332f3263d0>,\n",
       " 'cat_2017': <ee.image.Image at 0x7f332f31b3d0>,\n",
       " 'cat_2018': <ee.image.Image at 0x7f332f318b80>,\n",
       " 'cat_2019': <ee.image.Image at 0x7f332f3182e0>}"
      ]
     },
     "execution_count": 19,
     "metadata": {},
     "output_type": "execute_result"
    }
   ],
   "source": [
    "dd"
   ]
  },
  {
   "cell_type": "code",
   "execution_count": 20,
   "metadata": {},
   "outputs": [],
   "source": [
    "#Here I create the collection\n",
    "colndvis = ee.ImageCollection(dd['cat_2014']).merge(dd['cat_2015']).merge(dd['cat_2016']).merge(dd['cat_2017']).merge(dd['cat_2018']).merge(dd['cat_2019'])"
   ]
  },
  {
   "cell_type": "code",
   "execution_count": 21,
   "metadata": {},
   "outputs": [],
   "source": [
    "# Now I use the wonderful geemap library to create the gif\n",
    "# Define arguments for animation function parameters.\n",
    "video_args = {\n",
    "  'dimensions': 768,\n",
    "  'region': roi, #.geometry().getInfo()['coordinates'],\n",
    "  'framesPerSecond': 1,\n",
    "  'bands': ['NDVI', 'NDVI_1', 'NDVI_2'], #Yes, I should change band names to winter, spring and summer\n",
    "  'min': 0,\n",
    "  'max': 1,\n",
    "  'gamma': [1, 1, 1]\n",
    "}"
   ]
  },
  {
   "cell_type": "code",
   "execution_count": 22,
   "metadata": {},
   "outputs": [],
   "source": [
    "work_dir = os.path.join('/home/diego/Descargas')\n",
    "out_gif = os.path.join(work_dir, \"ndvi_multi_temp.gif\")"
   ]
  },
  {
   "cell_type": "code",
   "execution_count": 23,
   "metadata": {},
   "outputs": [
    {
     "name": "stdout",
     "output_type": "stream",
     "text": [
      "Generating URL...\n",
      "Downloading GIF image from https://earthengine.googleapis.com/v1alpha/projects/earthengine-legacy/videoThumbnails/e1d38c2f0ad308a2a35afc0fed340340-86a7b3768099978ce89877c6cfe65433:getPixels\n",
      "Please wait ...\n",
      "The GIF image has been saved to: /home/diego/Descargas/ndvi_multi_temp.gif\n"
     ]
    }
   ],
   "source": [
    "geemap.download_ee_video(colndvis, video_args, out_gif)"
   ]
  },
  {
   "cell_type": "code",
   "execution_count": 24,
   "metadata": {},
   "outputs": [],
   "source": [
    "texted_gif = os.path.join(work_dir, \"ndvi_Multi_Temp.gif\")\n",
    "geemap.add_text_to_gif(out_gif, texted_gif, xy=('3%', '5%'), text_sequence=2014, font_size=30, font_color='#ffffff', add_progress_bar=False)"
   ]
  },
  {
   "cell_type": "code",
   "execution_count": 25,
   "metadata": {},
   "outputs": [
    {
     "data": {
      "application/vnd.jupyter.widget-view+json": {
       "model_id": "8a65e2547a4e4fb482451acd0ed5a93f",
       "version_major": 2,
       "version_minor": 0
      },
      "text/plain": [
       "Output()"
      ]
     },
     "metadata": {},
     "output_type": "display_data"
    }
   ],
   "source": [
    "geemap.show_image(texted_gif)"
   ]
  },
  {
   "cell_type": "code",
   "execution_count": null,
   "metadata": {},
   "outputs": [],
   "source": []
  }
 ],
 "metadata": {
  "kernelspec": {
   "display_name": "Python 3",
   "language": "python",
   "name": "python3"
  },
  "language_info": {
   "codemirror_mode": {
    "name": "ipython",
    "version": 3
   },
   "file_extension": ".py",
   "mimetype": "text/x-python",
   "name": "python",
   "nbconvert_exporter": "python",
   "pygments_lexer": "ipython3",
   "version": "3.8.2"
  }
 },
 "nbformat": 4,
 "nbformat_minor": 4
}
